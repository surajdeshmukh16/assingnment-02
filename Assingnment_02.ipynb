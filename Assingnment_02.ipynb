{
  "nbformat": 4,
  "nbformat_minor": 0,
  "metadata": {
    "colab": {
      "name": "Assingnment-02.ipynb",
      "provenance": []
    },
    "kernelspec": {
      "name": "python3",
      "display_name": "Python 3"
    },
    "language_info": {
      "name": "python"
    }
  },
  "cells": [
    {
      "cell_type": "code",
      "execution_count": 54,
      "metadata": {
        "colab": {
          "base_uri": "https://localhost:8080/"
        },
        "id": "Cc3cbfu_BjUk",
        "outputId": "fd63973f-195f-4b2d-8165-cc8a3ec9d46c"
      },
      "outputs": [
        {
          "output_type": "stream",
          "name": "stdout",
          "text": [
            "5\n",
            "3 4\n",
            "5 6\n",
            "5 2\n",
            "7 2\n",
            "8 1\n",
            "List of Tuple before sorting: [(3, 4), (5, 6), (5, 2), (7, 2), (8, 1)]\n",
            "List of Tuple after sorting : [(8, 1), (5, 2), (7, 2), (3, 4), (5, 6)]\n"
          ]
        }
      ],
      "source": [
        "num_tuples = int(input())\n",
        "tupList=[tuple([int(x) for x in input().split()]) for i in range(num_tuples)]\n",
        "print(\"List of Tuple before sorting:\",tupList)\n",
        "listLen = len(tupList); \n",
        "for i in range(0, listLen):\n",
        "    for j in range(0, listLen - i - 1):\n",
        "        if(tupList[j][-1] > tupList[j + 1][-1]):\n",
        "            tupList[j],tupList[j+1]=tupList[j+1],tupList[j]\n",
        "print(\"List of Tuple after sorting : \" + str(tupList))\n",
        "\n"
      ]
    },
    {
      "cell_type": "code",
      "source": [
        "#Write a Python program to print a dictionary whose keys should be the alphabet \n",
        "#from a-z and the value should be corresponding ASCII values\n",
        "a={}\n",
        "for i in range(97,123):\n",
        "  a[chr(i)]=i\n",
        "  \n",
        "print(a)\n"
      ],
      "metadata": {
        "colab": {
          "base_uri": "https://localhost:8080/"
        },
        "id": "aZNARKmME1vU",
        "outputId": "1a38fd76-2629-4497-f3c3-4c6723397a95"
      },
      "execution_count": 44,
      "outputs": [
        {
          "output_type": "stream",
          "name": "stdout",
          "text": [
            "{'a': 97, 'b': 98, 'c': 99, 'd': 100, 'e': 101, 'f': 102, 'g': 103, 'h': 104, 'i': 105, 'j': 106, 'k': 107, 'l': 108, 'm': 109, 'n': 110, 'o': 111, 'p': 112, 'q': 113, 'r': 114, 's': 115, 't': 116, 'u': 117, 'v': 118, 'w': 119, 'x': 120, 'y': 121, 'z': 122}\n"
          ]
        }
      ]
    },
    {
      "cell_type": "code",
      "source": [
        ""
      ],
      "metadata": {
        "id": "tIOJ3-MePfZs"
      },
      "execution_count": 54,
      "outputs": []
    }
  ]
}